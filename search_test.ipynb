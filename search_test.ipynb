{
 "cells": [
  {
   "cell_type": "code",
   "execution_count": 1,
   "metadata": {
    "collapsed": true
   },
   "outputs": [],
   "source": [
    "import cv2\n",
    "import glob\n",
    "import _pickle as pickle\n",
    "from pdb import set_trace\n",
    "from operator import itemgetter"
   ]
  },
  {
   "cell_type": "code",
   "execution_count": 5,
   "metadata": {
    "collapsed": true
   },
   "outputs": [],
   "source": [
    "image = cv2.imread('static/query/10.jpg')\n",
    "indexed_images_folder, distance_rate, number_match_min, = ('indexed_images/', 0.7, 5)\n",
    "k = 2"
   ]
  },
  {
   "cell_type": "code",
   "execution_count": 6,
   "metadata": {},
   "outputs": [
    {
     "name": "stdout",
     "output_type": "stream",
     "text": [
      "Start searching\n"
     ]
    }
   ],
   "source": [
    "gray = cv2.cvtColor(image, cv2.COLOR_BGR2GRAY)\n",
    "sift = cv2.xfeatures2d.SIFT_create()\n",
    "image_keypoint, image_descriptor = sift.detectAndCompute(gray, None)\n",
    "\n",
    "print(\"Start searching\")\n",
    "bf = cv2.BFMatcher()\n",
    "results = []\n",
    "matching_kp = []\n",
    "image_numbers_database = []"
   ]
  },
  {
   "cell_type": "code",
   "execution_count": 7,
   "metadata": {},
   "outputs": [],
   "source": [
    "for i in range(1, 1000):\n",
    "    file = indexed_images_folder + '/' + str(i) + '.txt'\n",
    "    db_descriptor, db_image = pickle.load(open(file, \"rb\"))\n",
    "\n",
    "    matches = bf.knnMatch(image_descriptor, db_descriptor, k)\n",
    "\n",
    "    good = []\n",
    "    for first, second in matches:\n",
    "        if first.distance < distance_rate * second.distance:\n",
    "            good.append([first])\n",
    "\n",
    "    good_len = len(good)\n",
    "    matching_kp.append(good_len)\n",
    "    # image_numbers_database.append(i)\n",
    "\n",
    "    # if image\n",
    "    if good_len > number_match_min:\n",
    "        matching_image = {\n",
    "            'image': i,\n",
    "            'matching_kp': good_len\n",
    "        }\n",
    "        results.append(matching_image)"
   ]
  },
  {
   "cell_type": "code",
   "execution_count": 8,
   "metadata": {},
   "outputs": [
    {
     "data": {
      "text/plain": [
       "[{'image': 10, 'matching_kp': 834},\n",
       " {'image': 12, 'matching_kp': 30},\n",
       " {'image': 14, 'matching_kp': 7},\n",
       " {'image': 15, 'matching_kp': 6},\n",
       " {'image': 37, 'matching_kp': 7},\n",
       " {'image': 67, 'matching_kp': 6},\n",
       " {'image': 68, 'matching_kp': 7},\n",
       " {'image': 96, 'matching_kp': 7},\n",
       " {'image': 103, 'matching_kp': 6},\n",
       " {'image': 194, 'matching_kp': 7},\n",
       " {'image': 236, 'matching_kp': 6},\n",
       " {'image': 320, 'matching_kp': 6},\n",
       " {'image': 323, 'matching_kp': 6},\n",
       " {'image': 335, 'matching_kp': 6},\n",
       " {'image': 346, 'matching_kp': 8},\n",
       " {'image': 382, 'matching_kp': 6},\n",
       " {'image': 409, 'matching_kp': 8},\n",
       " {'image': 457, 'matching_kp': 6},\n",
       " {'image': 465, 'matching_kp': 6},\n",
       " {'image': 469, 'matching_kp': 6},\n",
       " {'image': 483, 'matching_kp': 6},\n",
       " {'image': 496, 'matching_kp': 6},\n",
       " {'image': 599, 'matching_kp': 6},\n",
       " {'image': 603, 'matching_kp': 7},\n",
       " {'image': 625, 'matching_kp': 6},\n",
       " {'image': 634, 'matching_kp': 6},\n",
       " {'image': 647, 'matching_kp': 10},\n",
       " {'image': 657, 'matching_kp': 6},\n",
       " {'image': 667, 'matching_kp': 8},\n",
       " {'image': 682, 'matching_kp': 6},\n",
       " {'image': 745, 'matching_kp': 6},\n",
       " {'image': 752, 'matching_kp': 7},\n",
       " {'image': 753, 'matching_kp': 7},\n",
       " {'image': 787, 'matching_kp': 6},\n",
       " {'image': 867, 'matching_kp': 6},\n",
       " {'image': 944, 'matching_kp': 6}]"
      ]
     },
     "execution_count": 8,
     "metadata": {},
     "output_type": "execute_result"
    }
   ],
   "source": [
    "results"
   ]
  },
  {
   "cell_type": "code",
   "execution_count": 9,
   "metadata": {
    "collapsed": true
   },
   "outputs": [],
   "source": [
    "r = sorted(results, key=itemgetter('matching_kp'), reverse=True)"
   ]
  },
  {
   "cell_type": "code",
   "execution_count": 10,
   "metadata": {},
   "outputs": [
    {
     "data": {
      "text/plain": [
       "[{'image': 10, 'matching_kp': 834},\n",
       " {'image': 12, 'matching_kp': 30},\n",
       " {'image': 647, 'matching_kp': 10},\n",
       " {'image': 346, 'matching_kp': 8},\n",
       " {'image': 409, 'matching_kp': 8},\n",
       " {'image': 667, 'matching_kp': 8},\n",
       " {'image': 14, 'matching_kp': 7},\n",
       " {'image': 37, 'matching_kp': 7},\n",
       " {'image': 68, 'matching_kp': 7},\n",
       " {'image': 96, 'matching_kp': 7},\n",
       " {'image': 194, 'matching_kp': 7},\n",
       " {'image': 603, 'matching_kp': 7},\n",
       " {'image': 752, 'matching_kp': 7},\n",
       " {'image': 753, 'matching_kp': 7},\n",
       " {'image': 15, 'matching_kp': 6},\n",
       " {'image': 67, 'matching_kp': 6},\n",
       " {'image': 103, 'matching_kp': 6},\n",
       " {'image': 236, 'matching_kp': 6},\n",
       " {'image': 320, 'matching_kp': 6},\n",
       " {'image': 323, 'matching_kp': 6},\n",
       " {'image': 335, 'matching_kp': 6},\n",
       " {'image': 382, 'matching_kp': 6},\n",
       " {'image': 457, 'matching_kp': 6},\n",
       " {'image': 465, 'matching_kp': 6},\n",
       " {'image': 469, 'matching_kp': 6},\n",
       " {'image': 483, 'matching_kp': 6},\n",
       " {'image': 496, 'matching_kp': 6},\n",
       " {'image': 599, 'matching_kp': 6},\n",
       " {'image': 625, 'matching_kp': 6},\n",
       " {'image': 634, 'matching_kp': 6},\n",
       " {'image': 657, 'matching_kp': 6},\n",
       " {'image': 682, 'matching_kp': 6},\n",
       " {'image': 745, 'matching_kp': 6},\n",
       " {'image': 787, 'matching_kp': 6},\n",
       " {'image': 867, 'matching_kp': 6},\n",
       " {'image': 944, 'matching_kp': 6}]"
      ]
     },
     "execution_count": 10,
     "metadata": {},
     "output_type": "execute_result"
    }
   ],
   "source": [
    "r"
   ]
  },
  {
   "cell_type": "code",
   "execution_count": null,
   "metadata": {
    "collapsed": true
   },
   "outputs": [],
   "source": []
  }
 ],
 "metadata": {
  "kernelspec": {
   "display_name": "Python 3",
   "language": "python",
   "name": "python3"
  },
  "language_info": {
   "codemirror_mode": {
    "name": "ipython",
    "version": 3
   },
   "file_extension": ".py",
   "mimetype": "text/x-python",
   "name": "python",
   "nbconvert_exporter": "python",
   "pygments_lexer": "ipython3",
   "version": "3.6.3"
  }
 },
 "nbformat": 4,
 "nbformat_minor": 2
}
